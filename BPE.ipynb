{
  "cells": [
    {
      "cell_type": "markdown",
      "source": [
        "# Problem 5: BPE (Byte Pair Encoding)"
      ],
      "metadata": {
        "id": "28mZSCubO8NA"
      }
    },
    {
      "cell_type": "code",
      "source": [
        "# Created by: Rthvik Raviprakash\n",
        "# Email: rravipra@uw.edu"
      ],
      "metadata": {
        "id": "_zQgN8BoV-bw"
      },
      "execution_count": null,
      "outputs": []
    },
    {
      "cell_type": "code",
      "source": [
        "import numpy as np\n",
        "import operator"
      ],
      "metadata": {
        "id": "fXn3hJDpO7cP"
      },
      "execution_count": null,
      "outputs": []
    },
    {
      "cell_type": "code",
      "execution_count": null,
      "metadata": {
        "colab": {
          "base_uri": "https://localhost:8080/",
          "height": 35
        },
        "id": "GXeUvLw-PkzQ",
        "outputId": "616a41d3-ff62-40fa-814a-770264f93177"
      },
      "outputs": [
        {
          "output_type": "execute_result",
          "data": {
            "text/plain": [
              "'Prague Stock Market falls to minus by the end of the trading day'"
            ],
            "application/vnd.google.colaboratory.intrinsic+json": {
              "type": "string"
            }
          },
          "metadata": {},
          "execution_count": 2
        }
      ],
      "source": [
        "filename = \"\" # your filename of the text document\n",
        "arr = np.loadtxt(filename, dtype = \"str\", delimiter = \"\\n\")\n",
        "arr[0]"
      ]
    },
    {
      "cell_type": "code",
      "execution_count": null,
      "metadata": {
        "id": "FirPdPcsiqLd"
      },
      "outputs": [],
      "source": [
        "def sent_out(array):\n",
        "  sent_list = []\n",
        "  for sent in array:\n",
        "    for ch in sent:\n",
        "      if ch == \" \":\n",
        "        sent_list.append(\"<s>\")\n",
        "      else:\n",
        "        sent_list.append(ch)\n",
        "    sent_list.append(\"<s>\")\n",
        "  \n",
        "  return sent_list"
      ]
    },
    {
      "cell_type": "code",
      "execution_count": null,
      "metadata": {
        "id": "gcT9wIBcwFvH"
      },
      "outputs": [],
      "source": [
        "s_list = sent_out(arr)"
      ]
    },
    {
      "cell_type": "code",
      "execution_count": null,
      "metadata": {
        "id": "Z2az6GrUAzmQ"
      },
      "outputs": [],
      "source": [
        "def get_bi(li):\n",
        "  di = {}\n",
        "  for j in range(len(li)- 1):\n",
        "    if (li[j], li[j+1]) in di:\n",
        "      di[(li[j], li[j+1])] += 1\n",
        "    else:\n",
        "      di[(li[j], li[j+1])] = 1\n",
        "  \n",
        "  return di"
      ]
    },
    {
      "cell_type": "code",
      "execution_count": null,
      "metadata": {
        "id": "SgS_gic4Pc0y"
      },
      "outputs": [],
      "source": [
        "bi_grams = {}"
      ]
    },
    {
      "cell_type": "code",
      "execution_count": null,
      "metadata": {
        "id": "M_mazOsPEW9X"
      },
      "outputs": [],
      "source": [
        "for j in range(len(s_list)-1):\n",
        "  if (s_list[j], s_list[j+1]) in bi_grams:\n",
        "    bi_grams[(s_list[j], s_list[j+1])] += 1\n",
        "  else:\n",
        "    bi_grams[(s_list[j], s_list[j+1])] = 1"
      ]
    },
    {
      "cell_type": "code",
      "execution_count": null,
      "metadata": {
        "colab": {
          "base_uri": "https://localhost:8080/"
        },
        "id": "omr-fg2YKQMN",
        "outputId": "d5c915b2-5352-427b-a572-ba80f43b27df"
      },
      "outputs": [
        {
          "metadata": {
            "tags": null
          },
          "name": "stdout",
          "output_type": "stream",
          "text": [
            "19877\n"
          ]
        }
      ],
      "source": [
        "key = max(bi_grams.items(), key=operator.itemgetter(1))[0]\n",
        "sub = s_list.copy()\n",
        "max_val = max(bi_grams.items(), key=operator.itemgetter(1))[1]\n",
        "x = []\n",
        "y = []\n",
        "keys = []\n",
        "iter = 0\n",
        "vocab = set(sub)\n",
        "\n",
        "print(max_val)\n",
        "\n",
        "while max_val > 1:\n",
        "  a = []\n",
        "  idx = 0\n",
        "  prev = []\n",
        "  while idx < len(sub) - 1:\n",
        "    if idx + 1 == len(sub) - 1 and (sub[idx], sub[idx+1]) != key:\n",
        "      a.append(sub[idx + 1])\n",
        "\n",
        "    if (sub[idx], sub[idx+1]) == key:\n",
        "      k_merge = (sub[idx], sub[idx+1])\n",
        "      merge = sub[idx] + sub[idx+1]\n",
        "      a.append(merge)      \n",
        "      idx += 2\n",
        "    else:\n",
        "      a.append(sub[idx])\n",
        "      idx += 1\n",
        "\n",
        "  bi_grams = get_bi(a)\n",
        "\n",
        "  sub = a.copy()\n",
        "  vocab = vocab.union(set(sub))\n",
        "  key = max(bi_grams.items(), key=operator.itemgetter(1))[0]\n",
        "  max_val = max(bi_grams.items(), key=operator.itemgetter(1))[1]\n",
        "  x.append(len(vocab))\n",
        "  y.append(len(sub))\n",
        "  keys.append(key)\n",
        "  iter += 1\n",
        "\n",
        "  values = list(bi_grams.values())\n",
        "  count = values.count(max(values))"
      ]
    },
    {
      "cell_type": "code",
      "execution_count": null,
      "metadata": {
        "colab": {
          "base_uri": "https://localhost:8080/",
          "height": 313
        },
        "id": "L-lfu99MC_Sv",
        "outputId": "99700cc7-3463-4ba8-ab0f-8dbb56afda24"
      },
      "outputs": [
        {
          "output_type": "execute_result",
          "data": {
            "text/plain": [
              "Text(0.5, 1.0, 'Scatterplot of training corpus size vs current vocabulary size')"
            ]
          },
          "metadata": {},
          "execution_count": 9
        },
        {
          "output_type": "display_data",
          "data": {
            "text/plain": [
              "<Figure size 432x288 with 1 Axes>"
            ],
            "image/png": "[encoded data removed]"
          },
          "metadata": {
            "needs_background": "light"
          }
        }
      ],
      "source": [
        "import matplotlib.pyplot as plt\n",
        "\n",
        "plt.scatter(x,y)\n",
        "plt.xlabel(\"Current size of the type vocabulary\")\n",
        "plt.ylabel(\"Length of the training corpus (in tokens)\")\n",
        "plt.title(\"Scatterplot of training corpus size vs current vocabulary size\")"
      ]
    },
    {
      "cell_type": "code",
      "execution_count": null,
      "metadata": {
        "id": "aADO_facKOEL"
      },
      "outputs": [],
      "source": [
        "s_res = \"\"\n",
        "\n",
        "for val in sub:\n",
        "  s_res += val"
      ]
    },
    {
      "cell_type": "code",
      "source": [
        "print(\"The size of the final set of vocabulary:\", len(vocab))\n",
        "print(\"The size of the final training corpus:\", len(sub))"
      ],
      "metadata": {
        "colab": {
          "base_uri": "https://localhost:8080/"
        },
        "id": "U_QddYyZhx2e",
        "outputId": "785342b9-50ad-4197-b42c-b420cab009ed"
      },
      "execution_count": null,
      "outputs": [
        {
          "output_type": "stream",
          "name": "stdout",
          "text": [
            "The size of the final set of vocabulary: 22200\n",
            "The size of the final training corpus: 97297\n"
          ]
        }
      ]
    },
    {
      "cell_type": "code",
      "execution_count": null,
      "metadata": {
        "id": "Lg6gtBhaKaA_"
      },
      "outputs": [],
      "source": [
        "path = \"/content/drive/MyDrive/BPE_Encode.txt\" # The path where you want to share your decoded sentences text file.\n",
        "with open(path,'w') as writefile:\n",
        "  writefile.write(s_res)"
      ]
    },
    {
      "cell_type": "code",
      "execution_count": null,
      "metadata": {
        "id": "uDRnFtmlhTKJ"
      },
      "outputs": [],
      "source": [
        "path_1 = \"/content/drive/MyDrive/xy_1.txt\" # The path where you want to share your decoded sentences text file.\n",
        "with open(path_1,'w') as writefile:\n",
        "  writefile.write(str(x))\n",
        "  writefile.write(\"\\n\")\n",
        "  writefile.write(str(y))"
      ]
    },
    {
      "cell_type": "code",
      "source": [
        "path_2 = \"/content/drive/MyDrive/Vocab.txt\" # The path where you want to share your decoded sentences text file.\n",
        "with open(path_2,'w') as writefile:\n",
        "  writefile.write(str(vocab))"
      ],
      "metadata": {
        "id": "Rat2pIzoh0Tu"
      },
      "execution_count": null,
      "outputs": []
    },
    {
      "cell_type": "code",
      "source": [
        "rare = \"the phloem\""
      ],
      "metadata": {
        "id": "UlwCpKP07_sd"
      },
      "execution_count": null,
      "outputs": []
    },
    {
      "cell_type": "code",
      "source": [
        "rare_word = \"\"\n",
        "for i in range(len(rare)):\n",
        "  if i == len(rare) - 1:\n",
        "    if rare[i] == \" \":\n",
        "      rare_word += \"<s> \"\n",
        "    else:\n",
        "      rare_word += rare[i]\n",
        "  else:\n",
        "    if rare[i] == \" \":\n",
        "      rare_word += \"<s> \"\n",
        "    else:\n",
        "      rare_word += rare[i] + \" \"\n",
        "\n",
        "rare_word"
      ],
      "metadata": {
        "colab": {
          "base_uri": "https://localhost:8080/",
          "height": 35
        },
        "id": "Wn_tMlIx8pO2",
        "outputId": "a6c225f0-b172-42e1-eb89-eccf0b042a15"
      },
      "execution_count": null,
      "outputs": [
        {
          "output_type": "execute_result",
          "data": {
            "text/plain": [
              "'t h e <s> p h l o e m'"
            ],
            "application/vnd.google.colaboratory.intrinsic+json": {
              "type": "string"
            }
          },
          "metadata": {},
          "execution_count": 149
        }
      ]
    },
    {
      "cell_type": "code",
      "source": [
        "for k in keys:\n",
        "  s = str(k[0]) + \" \" + str(k[1])\n",
        "  s1 = str(k[0]) + str(k[1])\n",
        "  rare_word = rare_word.replace(s, s1)"
      ],
      "metadata": {
        "id": "aZBpvwnQ9Oma"
      },
      "execution_count": null,
      "outputs": []
    },
    {
      "cell_type": "code",
      "source": [
        "res = []\n",
        "li = rare_word.split()\n",
        "for w in li:\n",
        "  if w in vocab:\n",
        "    res.append(w)\n",
        "  else:\n",
        "    res.append(\"<unk>\")\n",
        "\n",
        "s_result = \"\"\n",
        "\n",
        "for j in range(len(res)):\n",
        "  if j == len(res) - 1:\n",
        "    s_result += res[j]\n",
        "  else:\n",
        "    s_result += res[j] + \" \""
      ],
      "metadata": {
        "id": "rNkGJA-dA845"
      },
      "execution_count": null,
      "outputs": []
    },
    {
      "cell_type": "code",
      "source": [
        "s_result"
      ],
      "metadata": {
        "colab": {
          "base_uri": "https://localhost:8080/",
          "height": 35
        },
        "id": "bXeN6cBUIS1u",
        "outputId": "2357363c-8f9f-4053-ea36-a9f4896bf8d9"
      },
      "execution_count": null,
      "outputs": [
        {
          "output_type": "execute_result",
          "data": {
            "text/plain": [
              "'the <s> ph lo em'"
            ],
            "application/vnd.google.colaboratory.intrinsic+json": {
              "type": "string"
            }
          },
          "metadata": {},
          "execution_count": 152
        }
      ]
    }
  ],
  "metadata": {
    "colab": {
      "provenance": []
    },
    "kernelspec": {
      "display_name": "Python 3",
      "name": "python3"
    },
    "language_info": {
      "name": "python"
    }
  },
  "nbformat": 4,
  "nbformat_minor": 0
}